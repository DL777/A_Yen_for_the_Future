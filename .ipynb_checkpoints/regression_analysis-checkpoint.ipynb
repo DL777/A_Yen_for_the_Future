{
 "cells": [
  {
   "cell_type": "code",
   "execution_count": 1,
   "metadata": {},
   "outputs": [],
   "source": [
    "# Import Libraries\n",
    "import numpy as np\n",
    "import pandas as pd\n",
    "from pathlib import Path\n",
    "import matplotlib.pyplot as plt\n",
    "%matplotlib inline"
   ]
  },
  {
   "cell_type": "markdown",
   "metadata": {},
   "source": [
    "# Regression Analysis: Seasonal Effects with Sklearn Linear Regression\n",
    "### In this notebook, I built a SKLearn linear regression model to predict the daily CAD/JPY exchange rate returns with *lagged* CAD/JPY returns. "
   ]
  },
  {
   "cell_type": "code",
   "execution_count": 2,
   "metadata": {},
   "outputs": [
    {
     "data": {
      "text/html": [
       "<div>\n",
       "<style scoped>\n",
       "    .dataframe tbody tr th:only-of-type {\n",
       "        vertical-align: middle;\n",
       "    }\n",
       "\n",
       "    .dataframe tbody tr th {\n",
       "        vertical-align: top;\n",
       "    }\n",
       "\n",
       "    .dataframe thead th {\n",
       "        text-align: right;\n",
       "    }\n",
       "</style>\n",
       "<table border=\"1\" class=\"dataframe\">\n",
       "  <thead>\n",
       "    <tr style=\"text-align: right;\">\n",
       "      <th></th>\n",
       "      <th>Price</th>\n",
       "      <th>Open</th>\n",
       "      <th>High</th>\n",
       "      <th>Low</th>\n",
       "    </tr>\n",
       "    <tr>\n",
       "      <th>Date</th>\n",
       "      <th></th>\n",
       "      <th></th>\n",
       "      <th></th>\n",
       "      <th></th>\n",
       "    </tr>\n",
       "  </thead>\n",
       "  <tbody>\n",
       "    <tr>\n",
       "      <th>1982-01-05</th>\n",
       "      <td>184.65</td>\n",
       "      <td>184.65</td>\n",
       "      <td>184.65</td>\n",
       "      <td>184.65</td>\n",
       "    </tr>\n",
       "    <tr>\n",
       "      <th>1982-01-06</th>\n",
       "      <td>185.06</td>\n",
       "      <td>185.06</td>\n",
       "      <td>185.06</td>\n",
       "      <td>185.06</td>\n",
       "    </tr>\n",
       "    <tr>\n",
       "      <th>1982-01-07</th>\n",
       "      <td>186.88</td>\n",
       "      <td>186.88</td>\n",
       "      <td>186.88</td>\n",
       "      <td>186.88</td>\n",
       "    </tr>\n",
       "    <tr>\n",
       "      <th>1982-01-08</th>\n",
       "      <td>186.58</td>\n",
       "      <td>186.58</td>\n",
       "      <td>186.58</td>\n",
       "      <td>186.58</td>\n",
       "    </tr>\n",
       "    <tr>\n",
       "      <th>1982-01-11</th>\n",
       "      <td>187.64</td>\n",
       "      <td>187.64</td>\n",
       "      <td>187.64</td>\n",
       "      <td>187.64</td>\n",
       "    </tr>\n",
       "  </tbody>\n",
       "</table>\n",
       "</div>"
      ],
      "text/plain": [
       "             Price    Open    High     Low\n",
       "Date                                      \n",
       "1982-01-05  184.65  184.65  184.65  184.65\n",
       "1982-01-06  185.06  185.06  185.06  185.06\n",
       "1982-01-07  186.88  186.88  186.88  186.88\n",
       "1982-01-08  186.58  186.58  186.58  186.58\n",
       "1982-01-11  187.64  187.64  187.64  187.64"
      ]
     },
     "execution_count": 2,
     "metadata": {},
     "output_type": "execute_result"
    }
   ],
   "source": [
    "# Import currency pair exchange rates for CAD/JPY\n",
    "cad_jpy_df = pd.read_csv(Path(\"cad_jpy.csv\"), index_col=\"Date\", infer_datetime_format=True, parse_dates=True)\n",
    "cad_jpy_df.head()"
   ]
  },
  {
   "cell_type": "code",
   "execution_count": 3,
   "metadata": {},
   "outputs": [
    {
     "data": {
      "text/html": [
       "<div>\n",
       "<style scoped>\n",
       "    .dataframe tbody tr th:only-of-type {\n",
       "        vertical-align: middle;\n",
       "    }\n",
       "\n",
       "    .dataframe tbody tr th {\n",
       "        vertical-align: top;\n",
       "    }\n",
       "\n",
       "    .dataframe thead th {\n",
       "        text-align: right;\n",
       "    }\n",
       "</style>\n",
       "<table border=\"1\" class=\"dataframe\">\n",
       "  <thead>\n",
       "    <tr style=\"text-align: right;\">\n",
       "      <th></th>\n",
       "      <th>Price</th>\n",
       "      <th>Open</th>\n",
       "      <th>High</th>\n",
       "      <th>Low</th>\n",
       "    </tr>\n",
       "    <tr>\n",
       "      <th>Date</th>\n",
       "      <th></th>\n",
       "      <th></th>\n",
       "      <th></th>\n",
       "      <th></th>\n",
       "    </tr>\n",
       "  </thead>\n",
       "  <tbody>\n",
       "    <tr>\n",
       "      <th>1990-01-02</th>\n",
       "      <td>126.37</td>\n",
       "      <td>126.31</td>\n",
       "      <td>126.37</td>\n",
       "      <td>126.31</td>\n",
       "    </tr>\n",
       "    <tr>\n",
       "      <th>1990-01-03</th>\n",
       "      <td>125.30</td>\n",
       "      <td>125.24</td>\n",
       "      <td>125.30</td>\n",
       "      <td>125.24</td>\n",
       "    </tr>\n",
       "    <tr>\n",
       "      <th>1990-01-04</th>\n",
       "      <td>123.46</td>\n",
       "      <td>123.41</td>\n",
       "      <td>123.46</td>\n",
       "      <td>123.41</td>\n",
       "    </tr>\n",
       "    <tr>\n",
       "      <th>1990-01-05</th>\n",
       "      <td>124.54</td>\n",
       "      <td>124.48</td>\n",
       "      <td>124.54</td>\n",
       "      <td>124.48</td>\n",
       "    </tr>\n",
       "    <tr>\n",
       "      <th>1990-01-08</th>\n",
       "      <td>124.27</td>\n",
       "      <td>124.21</td>\n",
       "      <td>124.27</td>\n",
       "      <td>124.21</td>\n",
       "    </tr>\n",
       "  </tbody>\n",
       "</table>\n",
       "</div>"
      ],
      "text/plain": [
       "             Price    Open    High     Low\n",
       "Date                                      \n",
       "1990-01-02  126.37  126.31  126.37  126.31\n",
       "1990-01-03  125.30  125.24  125.30  125.24\n",
       "1990-01-04  123.46  123.41  123.46  123.41\n",
       "1990-01-05  124.54  124.48  124.54  124.48\n",
       "1990-01-08  124.27  124.21  124.27  124.21"
      ]
     },
     "execution_count": 3,
     "metadata": {},
     "output_type": "execute_result"
    }
   ],
   "source": [
    "# Trim the dataset to begin on January 1st, 1990\n",
    "cad_jpy_df = cad_jpy_df.loc[\"1990-01-01\":, :]\n",
    "cad_jpy_df.head()"
   ]
  },
  {
   "cell_type": "markdown",
   "metadata": {},
   "source": [
    "# Data Preparation"
   ]
  },
  {
   "cell_type": "markdown",
   "metadata": {},
   "source": [
    "### Returns"
   ]
  },
  {
   "cell_type": "code",
   "execution_count": 4,
   "metadata": {},
   "outputs": [
    {
     "data": {
      "text/html": [
       "<div>\n",
       "<style scoped>\n",
       "    .dataframe tbody tr th:only-of-type {\n",
       "        vertical-align: middle;\n",
       "    }\n",
       "\n",
       "    .dataframe tbody tr th {\n",
       "        vertical-align: top;\n",
       "    }\n",
       "\n",
       "    .dataframe thead th {\n",
       "        text-align: right;\n",
       "    }\n",
       "</style>\n",
       "<table border=\"1\" class=\"dataframe\">\n",
       "  <thead>\n",
       "    <tr style=\"text-align: right;\">\n",
       "      <th></th>\n",
       "      <th>Price</th>\n",
       "    </tr>\n",
       "    <tr>\n",
       "      <th>Date</th>\n",
       "      <th></th>\n",
       "    </tr>\n",
       "  </thead>\n",
       "  <tbody>\n",
       "    <tr>\n",
       "      <th>2020-05-29</th>\n",
       "      <td>0.076697</td>\n",
       "    </tr>\n",
       "    <tr>\n",
       "      <th>2020-06-01</th>\n",
       "      <td>1.251756</td>\n",
       "    </tr>\n",
       "    <tr>\n",
       "      <th>2020-06-02</th>\n",
       "      <td>1.425508</td>\n",
       "    </tr>\n",
       "    <tr>\n",
       "      <th>2020-06-03</th>\n",
       "      <td>0.373134</td>\n",
       "    </tr>\n",
       "    <tr>\n",
       "      <th>2020-06-04</th>\n",
       "      <td>0.012392</td>\n",
       "    </tr>\n",
       "  </tbody>\n",
       "</table>\n",
       "</div>"
      ],
      "text/plain": [
       "               Price\n",
       "Date                \n",
       "2020-05-29  0.076697\n",
       "2020-06-01  1.251756\n",
       "2020-06-02  1.425508\n",
       "2020-06-03  0.373134\n",
       "2020-06-04  0.012392"
      ]
     },
     "execution_count": 4,
     "metadata": {},
     "output_type": "execute_result"
    }
   ],
   "source": [
    "# Create a series using \"Price\" percentage returns, drop any nan\"s, and check the results:\n",
    "returns = (cad_jpy_df[[\"Price\"]].pct_change() * 100)\n",
    "returns = returns.replace(-np.inf, np.nan).dropna()\n",
    "returns.tail()"
   ]
  },
  {
   "cell_type": "markdown",
   "metadata": {},
   "source": [
    "### Lagged Returns "
   ]
  },
  {
   "cell_type": "code",
   "execution_count": 5,
   "metadata": {},
   "outputs": [
    {
     "data": {
      "text/html": [
       "<div>\n",
       "<style scoped>\n",
       "    .dataframe tbody tr th:only-of-type {\n",
       "        vertical-align: middle;\n",
       "    }\n",
       "\n",
       "    .dataframe tbody tr th {\n",
       "        vertical-align: top;\n",
       "    }\n",
       "\n",
       "    .dataframe thead th {\n",
       "        text-align: right;\n",
       "    }\n",
       "</style>\n",
       "<table border=\"1\" class=\"dataframe\">\n",
       "  <thead>\n",
       "    <tr style=\"text-align: right;\">\n",
       "      <th></th>\n",
       "      <th>Lagged Return</th>\n",
       "      <th>Return</th>\n",
       "    </tr>\n",
       "    <tr>\n",
       "      <th>Date</th>\n",
       "      <th></th>\n",
       "      <th></th>\n",
       "    </tr>\n",
       "  </thead>\n",
       "  <tbody>\n",
       "    <tr>\n",
       "      <th>1990-01-04</th>\n",
       "      <td>-0.846720</td>\n",
       "      <td>-1.468476</td>\n",
       "    </tr>\n",
       "    <tr>\n",
       "      <th>1990-01-05</th>\n",
       "      <td>-1.468476</td>\n",
       "      <td>0.874777</td>\n",
       "    </tr>\n",
       "    <tr>\n",
       "      <th>1990-01-08</th>\n",
       "      <td>0.874777</td>\n",
       "      <td>-0.216798</td>\n",
       "    </tr>\n",
       "    <tr>\n",
       "      <th>1990-01-09</th>\n",
       "      <td>-0.216798</td>\n",
       "      <td>0.667901</td>\n",
       "    </tr>\n",
       "    <tr>\n",
       "      <th>1990-01-10</th>\n",
       "      <td>0.667901</td>\n",
       "      <td>0.567546</td>\n",
       "    </tr>\n",
       "    <tr>\n",
       "      <th>...</th>\n",
       "      <td>...</td>\n",
       "      <td>...</td>\n",
       "    </tr>\n",
       "    <tr>\n",
       "      <th>2020-05-29</th>\n",
       "      <td>-0.114913</td>\n",
       "      <td>0.076697</td>\n",
       "    </tr>\n",
       "    <tr>\n",
       "      <th>2020-06-01</th>\n",
       "      <td>0.076697</td>\n",
       "      <td>1.251756</td>\n",
       "    </tr>\n",
       "    <tr>\n",
       "      <th>2020-06-02</th>\n",
       "      <td>1.251756</td>\n",
       "      <td>1.425508</td>\n",
       "    </tr>\n",
       "    <tr>\n",
       "      <th>2020-06-03</th>\n",
       "      <td>1.425508</td>\n",
       "      <td>0.373134</td>\n",
       "    </tr>\n",
       "    <tr>\n",
       "      <th>2020-06-04</th>\n",
       "      <td>0.373134</td>\n",
       "      <td>0.012392</td>\n",
       "    </tr>\n",
       "  </tbody>\n",
       "</table>\n",
       "<p>7927 rows × 2 columns</p>\n",
       "</div>"
      ],
      "text/plain": [
       "            Lagged Return    Return\n",
       "Date                               \n",
       "1990-01-04      -0.846720 -1.468476\n",
       "1990-01-05      -1.468476  0.874777\n",
       "1990-01-08       0.874777 -0.216798\n",
       "1990-01-09      -0.216798  0.667901\n",
       "1990-01-10       0.667901  0.567546\n",
       "...                   ...       ...\n",
       "2020-05-29      -0.114913  0.076697\n",
       "2020-06-01       0.076697  1.251756\n",
       "2020-06-02       1.251756  1.425508\n",
       "2020-06-03       1.425508  0.373134\n",
       "2020-06-04       0.373134  0.012392\n",
       "\n",
       "[7927 rows x 2 columns]"
      ]
     },
     "execution_count": 5,
     "metadata": {},
     "output_type": "execute_result"
    }
   ],
   "source": [
    "# Create a lagged return using the shift function\n",
    "returns['Lagged Return']=returns.shift()\n",
    "returns['Return']=returns['Price']\n",
    "returns=returns.drop(columns='Price', axis =1).dropna()\n",
    "returns"
   ]
  },
  {
   "cell_type": "markdown",
   "metadata": {},
   "source": [
    "### Train Test Split"
   ]
  },
  {
   "cell_type": "code",
   "execution_count": 6,
   "metadata": {},
   "outputs": [],
   "source": [
    "# Create a train/test split for the data using the data until 2018 for training and from 2018 onwards for testing\n",
    "train = returns[:'2017']\n",
    "test = returns['2018':]"
   ]
  },
  {
   "cell_type": "code",
   "execution_count": 7,
   "metadata": {},
   "outputs": [],
   "source": [
    "# Create four dataframes:\n",
    "# X_train (training set using just the independent variables), X_test (test set of of just the independent variables)\n",
    "# Y_train (training set using just the \"y\" variable, i.e., \"Futures Return\"), Y_test (test set of just the \"y\" variable):\n",
    "\n",
    "X_train = train[\"Lagged Return\"].to_frame()\n",
    "X_test = test[\"Lagged Return\"].to_frame()\n",
    "y_train = train[\"Return\"].to_frame()\n",
    "y_test =test[\"Return\"].to_frame()"
   ]
  },
  {
   "cell_type": "code",
   "execution_count": 8,
   "metadata": {},
   "outputs": [
    {
     "data": {
      "text/html": [
       "<div>\n",
       "<style scoped>\n",
       "    .dataframe tbody tr th:only-of-type {\n",
       "        vertical-align: middle;\n",
       "    }\n",
       "\n",
       "    .dataframe tbody tr th {\n",
       "        vertical-align: top;\n",
       "    }\n",
       "\n",
       "    .dataframe thead th {\n",
       "        text-align: right;\n",
       "    }\n",
       "</style>\n",
       "<table border=\"1\" class=\"dataframe\">\n",
       "  <thead>\n",
       "    <tr style=\"text-align: right;\">\n",
       "      <th></th>\n",
       "      <th>Lagged Return</th>\n",
       "    </tr>\n",
       "    <tr>\n",
       "      <th>Date</th>\n",
       "      <th></th>\n",
       "    </tr>\n",
       "  </thead>\n",
       "  <tbody>\n",
       "    <tr>\n",
       "      <th>1990-01-04</th>\n",
       "      <td>-0.846720</td>\n",
       "    </tr>\n",
       "    <tr>\n",
       "      <th>1990-01-05</th>\n",
       "      <td>-1.468476</td>\n",
       "    </tr>\n",
       "    <tr>\n",
       "      <th>1990-01-08</th>\n",
       "      <td>0.874777</td>\n",
       "    </tr>\n",
       "    <tr>\n",
       "      <th>1990-01-09</th>\n",
       "      <td>-0.216798</td>\n",
       "    </tr>\n",
       "    <tr>\n",
       "      <th>1990-01-10</th>\n",
       "      <td>0.667901</td>\n",
       "    </tr>\n",
       "    <tr>\n",
       "      <th>...</th>\n",
       "      <td>...</td>\n",
       "    </tr>\n",
       "    <tr>\n",
       "      <th>2017-12-25</th>\n",
       "      <td>-0.011240</td>\n",
       "    </tr>\n",
       "    <tr>\n",
       "      <th>2017-12-26</th>\n",
       "      <td>0.033723</td>\n",
       "    </tr>\n",
       "    <tr>\n",
       "      <th>2017-12-27</th>\n",
       "      <td>0.269693</td>\n",
       "    </tr>\n",
       "    <tr>\n",
       "      <th>2017-12-28</th>\n",
       "      <td>0.392245</td>\n",
       "    </tr>\n",
       "    <tr>\n",
       "      <th>2017-12-29</th>\n",
       "      <td>0.256754</td>\n",
       "    </tr>\n",
       "  </tbody>\n",
       "</table>\n",
       "<p>7293 rows × 1 columns</p>\n",
       "</div>"
      ],
      "text/plain": [
       "            Lagged Return\n",
       "Date                     \n",
       "1990-01-04      -0.846720\n",
       "1990-01-05      -1.468476\n",
       "1990-01-08       0.874777\n",
       "1990-01-09      -0.216798\n",
       "1990-01-10       0.667901\n",
       "...                   ...\n",
       "2017-12-25      -0.011240\n",
       "2017-12-26       0.033723\n",
       "2017-12-27       0.269693\n",
       "2017-12-28       0.392245\n",
       "2017-12-29       0.256754\n",
       "\n",
       "[7293 rows x 1 columns]"
      ]
     },
     "execution_count": 8,
     "metadata": {},
     "output_type": "execute_result"
    }
   ],
   "source": [
    "# Preview the X_train data\n",
    "X_train"
   ]
  },
  {
   "cell_type": "markdown",
   "metadata": {},
   "source": [
    "### Scatter Plot or Train Data Set"
   ]
  },
  {
   "cell_type": "code",
   "execution_count": 9,
   "metadata": {},
   "outputs": [
    {
     "data": {
      "text/plain": [
       "Text(0.5, 1.0, 'Train Set: Returns vs. Lagged Returns')"
      ]
     },
     "execution_count": 9,
     "metadata": {},
     "output_type": "execute_result"
    },
    {
     "data": {
      "image/png": "[encoded data removed]",
      "text/plain": [
       "<Figure size 432x288 with 1 Axes>"
      ]
     },
     "metadata": {
      "needs_background": "light"
     },
     "output_type": "display_data"
    }
   ],
   "source": [
    "plt.scatter(X_train, y_train)\n",
    "plt.xlabel(\"Lagged Returs\")\n",
    "plt.ylabel(\"Returs\")\n",
    "plt.title(\"Train Set: Returns vs. Lagged Returns\")"
   ]
  },
  {
   "cell_type": "markdown",
   "metadata": {},
   "source": [
    "# Linear Regression Model"
   ]
  },
  {
   "cell_type": "code",
   "execution_count": 10,
   "metadata": {},
   "outputs": [
    {
     "data": {
      "text/plain": [
       "LinearRegression()"
      ]
     },
     "execution_count": 10,
     "metadata": {},
     "output_type": "execute_result"
    }
   ],
   "source": [
    "# Create a Linear Regression model and fit it to the training data\n",
    "from sklearn.linear_model import LinearRegression\n",
    "\n",
    "# Fit a SKLearn linear regression using  just the training set (X_train, Y_train):\n",
    "model=LinearRegression()\n",
    "model.fit(X_train, y_train)"
   ]
  },
  {
   "cell_type": "markdown",
   "metadata": {},
   "source": [
    "# Make predictions using the Testing Data\n",
    "\n",
    "**Note:** We want to evaluate the model using data that it has never seen before, in this case: `X_test`."
   ]
  },
  {
   "cell_type": "code",
   "execution_count": 11,
   "metadata": {},
   "outputs": [
    {
     "data": {
      "text/html": [
       "<div>\n",
       "<style scoped>\n",
       "    .dataframe tbody tr th:only-of-type {\n",
       "        vertical-align: middle;\n",
       "    }\n",
       "\n",
       "    .dataframe tbody tr th {\n",
       "        vertical-align: top;\n",
       "    }\n",
       "\n",
       "    .dataframe thead th {\n",
       "        text-align: right;\n",
       "    }\n",
       "</style>\n",
       "<table border=\"1\" class=\"dataframe\">\n",
       "  <thead>\n",
       "    <tr style=\"text-align: right;\">\n",
       "      <th></th>\n",
       "      <th>Return</th>\n",
       "    </tr>\n",
       "    <tr>\n",
       "      <th>Date</th>\n",
       "      <th></th>\n",
       "    </tr>\n",
       "  </thead>\n",
       "  <tbody>\n",
       "    <tr>\n",
       "      <th>2018-01-01</th>\n",
       "      <td>0.245591</td>\n",
       "    </tr>\n",
       "    <tr>\n",
       "      <th>2018-01-02</th>\n",
       "      <td>-0.055679</td>\n",
       "    </tr>\n",
       "    <tr>\n",
       "      <th>2018-01-03</th>\n",
       "      <td>0.011142</td>\n",
       "    </tr>\n",
       "    <tr>\n",
       "      <th>2018-01-04</th>\n",
       "      <td>0.601604</td>\n",
       "    </tr>\n",
       "    <tr>\n",
       "      <th>2018-01-05</th>\n",
       "      <td>0.919158</td>\n",
       "    </tr>\n",
       "    <tr>\n",
       "      <th>...</th>\n",
       "      <td>...</td>\n",
       "    </tr>\n",
       "    <tr>\n",
       "      <th>2020-05-29</th>\n",
       "      <td>0.076697</td>\n",
       "    </tr>\n",
       "    <tr>\n",
       "      <th>2020-06-01</th>\n",
       "      <td>1.251756</td>\n",
       "    </tr>\n",
       "    <tr>\n",
       "      <th>2020-06-02</th>\n",
       "      <td>1.425508</td>\n",
       "    </tr>\n",
       "    <tr>\n",
       "      <th>2020-06-03</th>\n",
       "      <td>0.373134</td>\n",
       "    </tr>\n",
       "    <tr>\n",
       "      <th>2020-06-04</th>\n",
       "      <td>0.012392</td>\n",
       "    </tr>\n",
       "  </tbody>\n",
       "</table>\n",
       "<p>634 rows × 1 columns</p>\n",
       "</div>"
      ],
      "text/plain": [
       "              Return\n",
       "Date                \n",
       "2018-01-01  0.245591\n",
       "2018-01-02 -0.055679\n",
       "2018-01-03  0.011142\n",
       "2018-01-04  0.601604\n",
       "2018-01-05  0.919158\n",
       "...              ...\n",
       "2020-05-29  0.076697\n",
       "2020-06-01  1.251756\n",
       "2020-06-02  1.425508\n",
       "2020-06-03  0.373134\n",
       "2020-06-04  0.012392\n",
       "\n",
       "[634 rows x 1 columns]"
      ]
     },
     "execution_count": 11,
     "metadata": {},
     "output_type": "execute_result"
    }
   ],
   "source": [
    "# Make a prediction of \"y\" values using just the test dataset\n",
    "predictions = model.predict(X_test)\n",
    "y_test"
   ]
  },
  {
   "cell_type": "code",
   "execution_count": 12,
   "metadata": {},
   "outputs": [
    {
     "data": {
      "text/html": [
       "<div>\n",
       "<style scoped>\n",
       "    .dataframe tbody tr th:only-of-type {\n",
       "        vertical-align: middle;\n",
       "    }\n",
       "\n",
       "    .dataframe tbody tr th {\n",
       "        vertical-align: top;\n",
       "    }\n",
       "\n",
       "    .dataframe thead th {\n",
       "        text-align: right;\n",
       "    }\n",
       "</style>\n",
       "<table border=\"1\" class=\"dataframe\">\n",
       "  <thead>\n",
       "    <tr style=\"text-align: right;\">\n",
       "      <th></th>\n",
       "      <th>Return</th>\n",
       "      <th>Predicted Return</th>\n",
       "    </tr>\n",
       "    <tr>\n",
       "      <th>Date</th>\n",
       "      <th></th>\n",
       "      <th></th>\n",
       "    </tr>\n",
       "  </thead>\n",
       "  <tbody>\n",
       "    <tr>\n",
       "      <th>2018-01-01</th>\n",
       "      <td>0.245591</td>\n",
       "      <td>0.005434</td>\n",
       "    </tr>\n",
       "    <tr>\n",
       "      <th>2018-01-02</th>\n",
       "      <td>-0.055679</td>\n",
       "      <td>-0.007317</td>\n",
       "    </tr>\n",
       "    <tr>\n",
       "      <th>2018-01-03</th>\n",
       "      <td>0.011142</td>\n",
       "      <td>0.000340</td>\n",
       "    </tr>\n",
       "    <tr>\n",
       "      <th>2018-01-04</th>\n",
       "      <td>0.601604</td>\n",
       "      <td>-0.001358</td>\n",
       "    </tr>\n",
       "    <tr>\n",
       "      <th>2018-01-05</th>\n",
       "      <td>0.919158</td>\n",
       "      <td>-0.016366</td>\n",
       "    </tr>\n",
       "    <tr>\n",
       "      <th>...</th>\n",
       "      <td>...</td>\n",
       "      <td>...</td>\n",
       "    </tr>\n",
       "    <tr>\n",
       "      <th>2020-05-29</th>\n",
       "      <td>0.076697</td>\n",
       "      <td>0.001846</td>\n",
       "    </tr>\n",
       "    <tr>\n",
       "      <th>2020-06-01</th>\n",
       "      <td>1.251756</td>\n",
       "      <td>-0.003024</td>\n",
       "    </tr>\n",
       "    <tr>\n",
       "      <th>2020-06-02</th>\n",
       "      <td>1.425508</td>\n",
       "      <td>-0.032890</td>\n",
       "    </tr>\n",
       "    <tr>\n",
       "      <th>2020-06-03</th>\n",
       "      <td>0.373134</td>\n",
       "      <td>-0.037306</td>\n",
       "    </tr>\n",
       "    <tr>\n",
       "      <th>2020-06-04</th>\n",
       "      <td>0.012392</td>\n",
       "      <td>-0.010559</td>\n",
       "    </tr>\n",
       "  </tbody>\n",
       "</table>\n",
       "<p>634 rows × 2 columns</p>\n",
       "</div>"
      ],
      "text/plain": [
       "              Return  Predicted Return\n",
       "Date                                  \n",
       "2018-01-01  0.245591          0.005434\n",
       "2018-01-02 -0.055679         -0.007317\n",
       "2018-01-03  0.011142          0.000340\n",
       "2018-01-04  0.601604         -0.001358\n",
       "2018-01-05  0.919158         -0.016366\n",
       "...              ...               ...\n",
       "2020-05-29  0.076697          0.001846\n",
       "2020-06-01  1.251756         -0.003024\n",
       "2020-06-02  1.425508         -0.032890\n",
       "2020-06-03  0.373134         -0.037306\n",
       "2020-06-04  0.012392         -0.010559\n",
       "\n",
       "[634 rows x 2 columns]"
      ]
     },
     "execution_count": 12,
     "metadata": {},
     "output_type": "execute_result"
    }
   ],
   "source": [
    "# Assemble actual y data (Y_test) with predicted y data (from just above) into two columns in a dataframe:\n",
    "results = y_test\n",
    "results[\"Predicted Return\"] = predictions\n",
    "results"
   ]
  },
  {
   "cell_type": "code",
   "execution_count": 13,
   "metadata": {},
   "outputs": [
    {
     "data": {
      "text/plain": [
       "array([<matplotlib.axes._subplots.AxesSubplot object at 0x000002013A5C1430>,\n",
       "       <matplotlib.axes._subplots.AxesSubplot object at 0x000002013A5EC8E0>],\n",
       "      dtype=object)"
      ]
     },
     "execution_count": 13,
     "metadata": {},
     "output_type": "execute_result"
    },
    {
     "data": {
      "image/png": "[encoded data removed]",
      "text/plain": [
       "<Figure size 432x288 with 2 Axes>"
      ]
     },
     "metadata": {
      "needs_background": "light"
     },
     "output_type": "display_data"
    }
   ],
   "source": [
    "# Plot the first 20 predictions vs the true values\n",
    "results[:20].plot(subplots=True)"
   ]
  },
  {
   "cell_type": "code",
   "execution_count": 14,
   "metadata": {},
   "outputs": [
    {
     "data": {
      "text/plain": [
       "array([<matplotlib.axes._subplots.AxesSubplot object at 0x000002013A68FB80>,\n",
       "       <matplotlib.axes._subplots.AxesSubplot object at 0x000002013A6F3910>],\n",
       "      dtype=object)"
      ]
     },
     "execution_count": 14,
     "metadata": {},
     "output_type": "execute_result"
    },
    {
     "data": {
      "image/png": "[encoded data removed]",
      "text/plain": [
       "<Figure size 432x288 with 2 Axes>"
      ]
     },
     "metadata": {
      "needs_background": "light"
     },
     "output_type": "display_data"
    }
   ],
   "source": [
    "# Plot all Returns vs Predicted\n",
    "results.plot(subplots=True)"
   ]
  },
  {
   "cell_type": "markdown",
   "metadata": {},
   "source": [
    "The two plots exhibit similar behaviour in relative terms. For example, there is a noticeable increase in volatility in March-April 2020 in both the actual Returns and Predicted returns."
   ]
  },
  {
   "cell_type": "code",
   "execution_count": 15,
   "metadata": {},
   "outputs": [
    {
     "data": {
      "text/plain": [
       "<matplotlib.axes._subplots.AxesSubplot at 0x2013a786730>"
      ]
     },
     "execution_count": 15,
     "metadata": {},
     "output_type": "execute_result"
    },
    {
     "data": {
      "image/png": "[encoded data removed]",
      "text/plain": [
       "<Figure size 432x288 with 1 Axes>"
      ]
     },
     "metadata": {
      "needs_background": "light"
     },
     "output_type": "display_data"
    }
   ],
   "source": [
    "results.plot()"
   ]
  },
  {
   "cell_type": "markdown",
   "metadata": {},
   "source": [
    "Notice, however, that when plotted on the same scale, the two lines show very differ abolutel level of volatility so that the Predicted Returns look almost as a horisontal line."
   ]
  },
  {
   "cell_type": "markdown",
   "metadata": {},
   "source": [
    "### Calculate and plot the actutual CADJPY cumulative returns post 2018 and compare them to the cumulative returns predicted by the model"
   ]
  },
  {
   "cell_type": "code",
   "execution_count": 16,
   "metadata": {},
   "outputs": [
    {
     "data": {
      "text/html": [
       "<div>\n",
       "<style scoped>\n",
       "    .dataframe tbody tr th:only-of-type {\n",
       "        vertical-align: middle;\n",
       "    }\n",
       "\n",
       "    .dataframe tbody tr th {\n",
       "        vertical-align: top;\n",
       "    }\n",
       "\n",
       "    .dataframe thead th {\n",
       "        text-align: right;\n",
       "    }\n",
       "</style>\n",
       "<table border=\"1\" class=\"dataframe\">\n",
       "  <thead>\n",
       "    <tr style=\"text-align: right;\">\n",
       "      <th></th>\n",
       "      <th>Return</th>\n",
       "      <th>Predicted Return</th>\n",
       "    </tr>\n",
       "    <tr>\n",
       "      <th>Date</th>\n",
       "      <th></th>\n",
       "      <th></th>\n",
       "    </tr>\n",
       "  </thead>\n",
       "  <tbody>\n",
       "    <tr>\n",
       "      <th>2020-05-29</th>\n",
       "      <td>0.873967</td>\n",
       "      <td>0.996403</td>\n",
       "    </tr>\n",
       "    <tr>\n",
       "      <th>2020-06-01</th>\n",
       "      <td>0.884907</td>\n",
       "      <td>0.996373</td>\n",
       "    </tr>\n",
       "    <tr>\n",
       "      <th>2020-06-02</th>\n",
       "      <td>0.897522</td>\n",
       "      <td>0.996045</td>\n",
       "    </tr>\n",
       "    <tr>\n",
       "      <th>2020-06-03</th>\n",
       "      <td>0.900871</td>\n",
       "      <td>0.995674</td>\n",
       "    </tr>\n",
       "    <tr>\n",
       "      <th>2020-06-04</th>\n",
       "      <td>0.900982</td>\n",
       "      <td>0.995569</td>\n",
       "    </tr>\n",
       "  </tbody>\n",
       "</table>\n",
       "</div>"
      ],
      "text/plain": [
       "              Return  Predicted Return\n",
       "Date                                  \n",
       "2020-05-29  0.873967          0.996403\n",
       "2020-06-01  0.884907          0.996373\n",
       "2020-06-02  0.897522          0.996045\n",
       "2020-06-03  0.900871          0.995674\n",
       "2020-06-04  0.900982          0.995569"
      ]
     },
     "execution_count": 16,
     "metadata": {},
     "output_type": "execute_result"
    }
   ],
   "source": [
    "#Calculate the cumulative CADJPY returns. (I devide the Returns by 100 since we previously multiplied them by 100 in earlier calculations)\n",
    "cumulative_returns= (1+(results/100)).cumprod()\n",
    "cumulative_returns.tail()"
   ]
  },
  {
   "cell_type": "markdown",
   "metadata": {},
   "source": [
    "### Plot the actual and predicted cumulative CADJPY returns"
   ]
  },
  {
   "cell_type": "code",
   "execution_count": 17,
   "metadata": {},
   "outputs": [
    {
     "data": {
      "text/plain": [
       "<matplotlib.axes._subplots.AxesSubplot at 0x2013a883b20>"
      ]
     },
     "execution_count": 17,
     "metadata": {},
     "output_type": "execute_result"
    },
    {
     "data": {
      "image/png": "[encoded data removed]",
      "text/plain": [
       "<Figure size 432x288 with 1 Axes>"
      ]
     },
     "metadata": {
      "needs_background": "light"
     },
     "output_type": "display_data"
    }
   ],
   "source": [
    "cumulative_returns.plot()"
   ]
  },
  {
   "cell_type": "markdown",
   "metadata": {},
   "source": [
    "# Out-of-Sample Performance\n",
    "\n",
    "Evaluate the model using \"out-of-sample\" data (`X_test` and `y_test`)"
   ]
  },
  {
   "cell_type": "code",
   "execution_count": 18,
   "metadata": {},
   "outputs": [
    {
     "name": "stdout",
     "output_type": "stream",
     "text": [
      "Out-of-Sample Mean Squared Error (MSE): 0.415\n",
      "Out-of-Sample Root Mean Squared Error (RMSE): 0.645\n",
      "Out-of-Sample Coefficient of Determinatioin (R^2): 0.005\n"
     ]
    }
   ],
   "source": [
    "from sklearn.metrics import mean_squared_error, r2_score\n",
    "# Calculate the mean_squared_error (MSE) on actual versus predicted test \"y\" \n",
    "# (Hint: use the dataframe from above)\n",
    "mse = mean_squared_error(results[\"Return\"],results[\"Predicted Return\"])\n",
    "\n",
    "# Using that mean-squared-error, calculate the root-mean-squared error (RMSE):\n",
    "rmse=np.sqrt(mse)\n",
    "\n",
    "# Calculate the R^2:\n",
    "r2=r2_score(results[\"Return\"],results[\"Predicted Return\"])\n",
    "\n",
    "print(f\"Out-of-Sample Mean Squared Error (MSE): {round(mse,3)}\")\n",
    "print(f\"Out-of-Sample Root Mean Squared Error (RMSE): {round(rmse,3)}\")\n",
    "print(f\"Out-of-Sample Coefficient of Determinatioin (R^2): {round(r2,3)}\")"
   ]
  },
  {
   "cell_type": "markdown",
   "metadata": {},
   "source": [
    "Overall, the model has no predictive quality with R^2 at zero."
   ]
  },
  {
   "cell_type": "markdown",
   "metadata": {},
   "source": [
    "# Out-of-Sample Returns: Actual Returns vs Predicted Returs"
   ]
  },
  {
   "cell_type": "markdown",
   "metadata": {},
   "source": [
    "We can visualize the Out-of-Sample performance of the model by plotting a scatter chart of the Actual Returns vs the Predicted Returns. If the model performed well, the Actual Out-of-Sample Returns would be scattered along the upwardly sloping straight line when plotted against the Predicted Out-of-Sample Returns, which is clearly not the case in the following plot:"
   ]
  },
  {
   "cell_type": "code",
   "execution_count": 19,
   "metadata": {},
   "outputs": [
    {
     "data": {
      "text/plain": [
       "Text(0.5, 1.0, 'Out-of-Sample Returns: Actual vs. Model Predicted')"
      ]
     },
     "execution_count": 19,
     "metadata": {},
     "output_type": "execute_result"
    },
    {
     "data": {
      "image/png": "[encoded data removed]",
      "text/plain": [
       "<Figure size 432x288 with 1 Axes>"
      ]
     },
     "metadata": {
      "needs_background": "light"
     },
     "output_type": "display_data"
    }
   ],
   "source": [
    "plt.scatter(results[\"Predicted Return\"], results[\"Return\"])\n",
    "plt.xlabel(\"Out-of-Sample Predicted Returs\")\n",
    "plt.ylabel(\"Out-of-Sample Returs\")\n",
    "plt.title(\"Out-of-Sample Returns: Actual vs. Model Predicted\")"
   ]
  },
  {
   "cell_type": "markdown",
   "metadata": {},
   "source": [
    "# In-Sample Performance\n",
    "\n",
    "Evaluate the model using in-sample data (X_train and y_train)"
   ]
  },
  {
   "cell_type": "code",
   "execution_count": 20,
   "metadata": {},
   "outputs": [
    {
     "data": {
      "text/html": [
       "<div>\n",
       "<style scoped>\n",
       "    .dataframe tbody tr th:only-of-type {\n",
       "        vertical-align: middle;\n",
       "    }\n",
       "\n",
       "    .dataframe tbody tr th {\n",
       "        vertical-align: top;\n",
       "    }\n",
       "\n",
       "    .dataframe thead th {\n",
       "        text-align: right;\n",
       "    }\n",
       "</style>\n",
       "<table border=\"1\" class=\"dataframe\">\n",
       "  <thead>\n",
       "    <tr style=\"text-align: right;\">\n",
       "      <th></th>\n",
       "      <th>Return</th>\n",
       "      <th>In-sample Predictions</th>\n",
       "    </tr>\n",
       "    <tr>\n",
       "      <th>Date</th>\n",
       "      <th></th>\n",
       "      <th></th>\n",
       "    </tr>\n",
       "  </thead>\n",
       "  <tbody>\n",
       "    <tr>\n",
       "      <th>1990-01-04</th>\n",
       "      <td>-1.468476</td>\n",
       "      <td>0.020446</td>\n",
       "    </tr>\n",
       "    <tr>\n",
       "      <th>1990-01-05</th>\n",
       "      <td>0.874777</td>\n",
       "      <td>0.036249</td>\n",
       "    </tr>\n",
       "    <tr>\n",
       "      <th>1990-01-08</th>\n",
       "      <td>-0.216798</td>\n",
       "      <td>-0.023309</td>\n",
       "    </tr>\n",
       "    <tr>\n",
       "      <th>1990-01-09</th>\n",
       "      <td>0.667901</td>\n",
       "      <td>0.004436</td>\n",
       "    </tr>\n",
       "    <tr>\n",
       "      <th>1990-01-10</th>\n",
       "      <td>0.567546</td>\n",
       "      <td>-0.018051</td>\n",
       "    </tr>\n",
       "  </tbody>\n",
       "</table>\n",
       "</div>"
      ],
      "text/plain": [
       "              Return  In-sample Predictions\n",
       "Date                                       \n",
       "1990-01-04 -1.468476               0.020446\n",
       "1990-01-05  0.874777               0.036249\n",
       "1990-01-08 -0.216798              -0.023309\n",
       "1990-01-09  0.667901               0.004436\n",
       "1990-01-10  0.567546              -0.018051"
      ]
     },
     "execution_count": 20,
     "metadata": {},
     "output_type": "execute_result"
    }
   ],
   "source": [
    "# Construct a dataframe using just the \"y\" training data:\n",
    "in_sample_results = y_train\n",
    "\n",
    "# Add a column of \"in-sample\" predictions to that dataframe:  \n",
    "in_sample_results[\"In-sample Predictions\"] = model.predict(X_train)\n",
    "\n",
    "in_sample_results.head()"
   ]
  },
  {
   "cell_type": "code",
   "execution_count": 21,
   "metadata": {},
   "outputs": [
    {
     "name": "stdout",
     "output_type": "stream",
     "text": [
      "In-Sample Mean Squared Error (MSE): 0.709\n",
      "In-Sample Root Mean Squared Error (RMSE): 0.842\n",
      "In-Sample Coefficient of Determinatioin (R^2): 0.001\n"
     ]
    }
   ],
   "source": [
    "# Calculate in-sample mean_squared_error (for comparison to out-of-sample)\n",
    "in_sample_mse = mean_squared_error(in_sample_results[\"Return\"], in_sample_results[\"In-sample Predictions\"])\n",
    "\n",
    "# Calculate in-sample root mean_squared_error (for comparison to out-of-sample)\n",
    "in_sample_rmse=np.sqrt(in_sample_mse)\n",
    "\n",
    "# Calculate the R^2:\n",
    "in_sample_r2=r2_score(in_sample_results[\"Return\"],in_sample_results[\"In-sample Predictions\"])\n",
    "\n",
    "print(f\"In-Sample Mean Squared Error (MSE): {round(in_sample_mse,3)}\")\n",
    "print(f\"In-Sample Root Mean Squared Error (RMSE): {round(in_sample_rmse,3)}\")\n",
    "print(f\"In-Sample Coefficient of Determinatioin (R^2): {round(in_sample_r2,3)}\")\n"
   ]
  },
  {
   "cell_type": "markdown",
   "metadata": {},
   "source": [
    "The model has a WORSE In-Sample performance than Out-of-Sample performance. The predictive quality is still non-existent with R^2 at zero. However the RMSE of 0.842 is higher than the Out-of-Scope RMSE at 0.645."
   ]
  },
  {
   "cell_type": "markdown",
   "metadata": {},
   "source": [
    "### In-Sample Returns vs. Model-Predicted Returns Plot"
   ]
  },
  {
   "cell_type": "code",
   "execution_count": 22,
   "metadata": {},
   "outputs": [
    {
     "data": {
      "text/plain": [
       "Text(0.5, 1.0, 'In-Sample Returns: Actual vs. Lagged')"
      ]
     },
     "execution_count": 22,
     "metadata": {},
     "output_type": "execute_result"
    },
    {
     "data": {
      "image/png": "[encoded data removed]",
      "text/plain": [
       "<Figure size 432x288 with 1 Axes>"
      ]
     },
     "metadata": {
      "needs_background": "light"
     },
     "output_type": "display_data"
    }
   ],
   "source": [
    "# In-sample predictions\n",
    "plt.scatter(X_train, in_sample_results[\"Return\"])\n",
    "plt.plot(X_train, in_sample_results[\"In-sample Predictions\"], color='red')\n",
    "plt.xlabel(\"In-Sample Lagged Returs\")\n",
    "plt.ylabel(\"In-Sample Returs\")\n",
    "plt.title(\"In-Sample Returns: Actual vs. Lagged\")"
   ]
  },
  {
   "cell_type": "markdown",
   "metadata": {},
   "source": [
    "It is clear from the above plot that the lagged CADJPY returns are poor predictors of actual returns. The Prediction line is almost horizontal, meaning that the actual returns have very low sensitivity to lagged returns."
   ]
  },
  {
   "cell_type": "markdown",
   "metadata": {},
   "source": [
    "# Conclusions"
   ]
  },
  {
   "cell_type": "markdown",
   "metadata": {},
   "source": [
    "**Question:** Does this model perform better or worse on out-of-sample data as compared to in-sample data?\n",
    "\n",
    "**Answer:** The Linear Regression model performed better on out-of-sample data than on in-sample data which is contrary to what's usually expected."
   ]
  }
 ],
 "metadata": {
  "file_extension": ".py",
  "kernelspec": {
   "display_name": "Python 3",
   "language": "python",
   "name": "python3"
  },
  "language_info": {
   "codemirror_mode": {
    "name": "ipython",
    "version": 3
   },
   "file_extension": ".py",
   "mimetype": "text/x-python",
   "name": "python",
   "nbconvert_exporter": "python",
   "pygments_lexer": "ipython3",
   "version": "3.8.3"
  },
  "mimetype": "text/x-python",
  "name": "python",
  "npconvert_exporter": "python",
  "pygments_lexer": "ipython3",
  "version": 3
 },
 "nbformat": 4,
 "nbformat_minor": 4
}
